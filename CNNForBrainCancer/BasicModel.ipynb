{
 "cells": [
  {
   "cell_type": "code",
   "execution_count": 1,
   "metadata": {},
   "outputs": [
    {
     "data": {
      "text/html": [
       "<div>\n",
       "<style scoped>\n",
       "    .dataframe tbody tr th:only-of-type {\n",
       "        vertical-align: middle;\n",
       "    }\n",
       "\n",
       "    .dataframe tbody tr th {\n",
       "        vertical-align: top;\n",
       "    }\n",
       "\n",
       "    .dataframe thead th {\n",
       "        text-align: right;\n",
       "    }\n",
       "</style>\n",
       "<table border=\"1\" class=\"dataframe\">\n",
       "  <thead>\n",
       "    <tr style=\"text-align: right;\">\n",
       "      <th></th>\n",
       "      <th>File path</th>\n",
       "      <th>Class</th>\n",
       "    </tr>\n",
       "  </thead>\n",
       "  <tbody>\n",
       "    <tr>\n",
       "      <th>0</th>\n",
       "      <td>./mergedDataset/no_tumor\\1.jpg</td>\n",
       "      <td>0</td>\n",
       "    </tr>\n",
       "    <tr>\n",
       "      <th>1</th>\n",
       "      <td>./mergedDataset/no_tumor\\2.jpg</td>\n",
       "      <td>0</td>\n",
       "    </tr>\n",
       "    <tr>\n",
       "      <th>2</th>\n",
       "      <td>./mergedDataset/no_tumor\\3.jpg</td>\n",
       "      <td>0</td>\n",
       "    </tr>\n",
       "    <tr>\n",
       "      <th>3</th>\n",
       "      <td>./mergedDataset/no_tumor\\4.jpg</td>\n",
       "      <td>0</td>\n",
       "    </tr>\n",
       "    <tr>\n",
       "      <th>4</th>\n",
       "      <td>./mergedDataset/no_tumor\\5.jpg</td>\n",
       "      <td>0</td>\n",
       "    </tr>\n",
       "    <tr>\n",
       "      <th>...</th>\n",
       "      <td>...</td>\n",
       "      <td>...</td>\n",
       "    </tr>\n",
       "    <tr>\n",
       "      <th>3155</th>\n",
       "      <td>./mergedDataset/pituitary_tumor\\p (95).jpg</td>\n",
       "      <td>3</td>\n",
       "    </tr>\n",
       "    <tr>\n",
       "      <th>3156</th>\n",
       "      <td>./mergedDataset/pituitary_tumor\\p (96).jpg</td>\n",
       "      <td>3</td>\n",
       "    </tr>\n",
       "    <tr>\n",
       "      <th>3157</th>\n",
       "      <td>./mergedDataset/pituitary_tumor\\p (97).jpg</td>\n",
       "      <td>3</td>\n",
       "    </tr>\n",
       "    <tr>\n",
       "      <th>3158</th>\n",
       "      <td>./mergedDataset/pituitary_tumor\\p (98).jpg</td>\n",
       "      <td>3</td>\n",
       "    </tr>\n",
       "    <tr>\n",
       "      <th>3159</th>\n",
       "      <td>./mergedDataset/pituitary_tumor\\p (99).jpg</td>\n",
       "      <td>3</td>\n",
       "    </tr>\n",
       "  </tbody>\n",
       "</table>\n",
       "<p>3160 rows × 2 columns</p>\n",
       "</div>"
      ],
      "text/plain": [
       "                                       File path  Class\n",
       "0                 ./mergedDataset/no_tumor\\1.jpg      0\n",
       "1                 ./mergedDataset/no_tumor\\2.jpg      0\n",
       "2                 ./mergedDataset/no_tumor\\3.jpg      0\n",
       "3                 ./mergedDataset/no_tumor\\4.jpg      0\n",
       "4                 ./mergedDataset/no_tumor\\5.jpg      0\n",
       "...                                          ...    ...\n",
       "3155  ./mergedDataset/pituitary_tumor\\p (95).jpg      3\n",
       "3156  ./mergedDataset/pituitary_tumor\\p (96).jpg      3\n",
       "3157  ./mergedDataset/pituitary_tumor\\p (97).jpg      3\n",
       "3158  ./mergedDataset/pituitary_tumor\\p (98).jpg      3\n",
       "3159  ./mergedDataset/pituitary_tumor\\p (99).jpg      3\n",
       "\n",
       "[3160 rows x 2 columns]"
      ]
     },
     "execution_count": 1,
     "metadata": {},
     "output_type": "execute_result"
    }
   ],
   "source": [
    "import pandas as pd \n",
    "import os \n",
    "import numpy as np\n",
    "import cv2\n",
    "\n",
    "paths = []\n",
    "classes = []\n",
    "\n",
    "noTumorPath = \"./mergedDataset/no_tumor\"\n",
    "gliomaTumorPath = \"./mergedDataset/glioma_tumor\"\n",
    "meningiomaTumorPath = \"./mergedDataset/meningioma_tumor\"\n",
    "pituitaryTumorPath = \"./mergedDataset/pituitary_tumor\"\n",
    "\n",
    "\n",
    "noTumorFiles = os.listdir(noTumorPath)\n",
    "gliomaFiles = os.listdir(gliomaTumorPath)\n",
    "meningiomaFiles = os.listdir(meningiomaTumorPath)\n",
    "pituitaryFiles = os.listdir(pituitaryTumorPath)\n",
    "\n",
    "\n",
    "basePaths = [noTumorPath,gliomaTumorPath,meningiomaTumorPath,pituitaryTumorPath]\n",
    "folders = [noTumorFiles,gliomaFiles,meningiomaFiles,pituitaryFiles]\n",
    "for index,folder in enumerate(folders) :\n",
    "    for path in folder :\n",
    "        paths.append(os.path.join(basePaths[index],path))\n",
    "        classes.append(index)\n",
    "\n",
    "df = pd.DataFrame({\n",
    "    \"File path\" : paths,\n",
    "    \"Class\" : classes\n",
    "})\n",
    "\n",
    "df\n",
    "    \n"
   ]
  },
  {
   "cell_type": "code",
   "execution_count": 2,
   "metadata": {},
   "outputs": [],
   "source": [
    "import torch\n",
    "import torch.nn as nn\n",
    "import torch.optim as optim\n",
    "from torchvision import datasets, transforms\n",
    "from torch.utils.data import DataLoader, Dataset\n",
    "from PIL import Image\n",
    "\n",
    "\n",
    "device = torch.device(\"cuda\" if torch.cuda.is_available() else \"cpu\")\n"
   ]
  },
  {
   "cell_type": "code",
   "execution_count": 3,
   "metadata": {},
   "outputs": [],
   "source": [
    "class imageDataset(Dataset): #creating custom data set for simplicty\n",
    "    def __init__(self, dataframe, transform=None):\n",
    "        self.dataframe = dataframe\n",
    "        self.transform = transform\n",
    "\n",
    "    def __len__(self):\n",
    "        return len(self.dataframe)\n",
    "\n",
    "    def __getitem__(self, idx):\n",
    "        img_path = self.dataframe.iloc[idx, 0]\n",
    "        label = self.dataframe.iloc[idx, 1]\n",
    "        image = Image.open(img_path).convert('L')  # Convert to grayscale\n",
    "\n",
    "        if self.transform:\n",
    "            image = self.transform(image)\n",
    "        \n",
    "        return image, label \n",
    "    \n"
   ]
  },
  {
   "cell_type": "code",
   "execution_count": 4,
   "metadata": {},
   "outputs": [
    {
     "data": {
      "text/plain": [
       "<__main__.imageDataset at 0x26d6076a280>"
      ]
     },
     "execution_count": 4,
     "metadata": {},
     "output_type": "execute_result"
    }
   ],
   "source": [
    "transform = transforms.Compose([\n",
    "    transforms.Resize((256, 256)),     \n",
    "    transforms.ToTensor(),              \n",
    "])\n",
    "\n",
    "tumorDataset = imageDataset(df, transform=transform)\n",
    "tumorDataset"
   ]
  },
  {
   "cell_type": "code",
   "execution_count": 5,
   "metadata": {},
   "outputs": [
    {
     "data": {
      "text/plain": [
       "(<torch.utils.data.dataset.Subset at 0x26d6391af40>,\n",
       " <torch.utils.data.dataset.Subset at 0x26d6391ae80>,\n",
       " <torch.utils.data.dataloader.DataLoader at 0x26bd24cdca0>,\n",
       " <torch.utils.data.dataloader.DataLoader at 0x26bd24cda90>)"
      ]
     },
     "execution_count": 5,
     "metadata": {},
     "output_type": "execute_result"
    }
   ],
   "source": [
    "\n",
    "trainSize = int(0.8 * len(tumorDataset))\n",
    "valSize = len(tumorDataset) - trainSize\n",
    "trainDataset, validationDataset = torch.utils.data.random_split(tumorDataset, [trainSize, valSize])\n",
    "\n",
    "trainLoader = DataLoader(trainDataset, batch_size=32, shuffle=True)\n",
    "validationLoader = DataLoader(validationDataset, batch_size=32, shuffle=False)\n",
    "\n",
    "trainDataset,validationDataset,trainLoader,validationLoader"
   ]
  },
  {
   "cell_type": "code",
   "execution_count": 6,
   "metadata": {},
   "outputs": [],
   "source": [
    "class TumorCNN(nn.Module):\n",
    "    def __init__(self):\n",
    "        super(TumorCNN, self).__init__()\n",
    "        self.conv1 = nn.Conv2d(1, 32, kernel_size=3, stride=1, padding=1)\n",
    "        self.pool = nn.MaxPool2d(2, 2)\n",
    "        self.fc1 = nn.Linear(32 * 128 * 128, 512) \n",
    "        self.fc2 = nn.Linear(512, 4)\n",
    "\n",
    "    def forward(self, x):\n",
    "        x = self.pool(torch.relu(self.conv1(x)))\n",
    "        x = x.view(x.size(0), -1)  \n",
    "        x = torch.relu(self.fc1(x))\n",
    "        x = self.fc2(x)\n",
    "        return x\n",
    "\n",
    "model = TumorCNN().to(device)\n"
   ]
  },
  {
   "cell_type": "code",
   "execution_count": 7,
   "metadata": {},
   "outputs": [
    {
     "name": "stdout",
     "output_type": "stream",
     "text": [
      "Epoch 1, Loss: 8.301759451250486\n",
      "Validation Accuracy: 63.924050632911396%\n",
      "Epoch 2, Loss: 0.8686889274210869\n",
      "Validation Accuracy: 80.37974683544304%\n",
      "Epoch 3, Loss: 0.5180323408751548\n",
      "Validation Accuracy: 82.4367088607595%\n",
      "Epoch 4, Loss: 0.23401047544011586\n",
      "Validation Accuracy: 83.54430379746836%\n",
      "Epoch 5, Loss: 0.16050861591968354\n",
      "Validation Accuracy: 84.33544303797468%\n",
      "Epoch 6, Loss: 0.09341716011868248\n",
      "Validation Accuracy: 84.81012658227849%\n",
      "Epoch 7, Loss: 0.18449720495109317\n",
      "Validation Accuracy: 67.87974683544304%\n",
      "Epoch 8, Loss: 0.1305827893835457\n",
      "Validation Accuracy: 87.18354430379746%\n",
      "Epoch 9, Loss: 0.0584600814205559\n",
      "Validation Accuracy: 84.17721518987342%\n",
      "Epoch 10, Loss: 0.020760429681196242\n",
      "Validation Accuracy: 87.0253164556962%\n"
     ]
    }
   ],
   "source": [
    "criterion = nn.CrossEntropyLoss()\n",
    "optimizer = optim.Adam(model.parameters(), lr=0.001)\n",
    "\n",
    "# Training loop\n",
    "for epoch in range(10): \n",
    "    model.train()\n",
    "    running_loss = 0.0\n",
    "    for images, labels in trainLoader:\n",
    "        images, labels = images.to(device), labels.to(device)\n",
    "\n",
    "        optimizer.zero_grad()\n",
    "        outputs = model(images)\n",
    "        loss = criterion(outputs, labels)\n",
    "        loss.backward()\n",
    "        optimizer.step()\n",
    "\n",
    "        running_loss += loss.item()\n",
    "    \n",
    "    print(f'Epoch {epoch+1}, Loss: {running_loss/len(trainLoader)}')\n",
    "\n",
    "    # Validation loop (optional)\n",
    "    model.eval()\n",
    "    correct = 0\n",
    "    total = 0\n",
    "    with torch.no_grad():\n",
    "        for images, labels in validationLoader:\n",
    "            images, labels = images.to(device), labels.to(device)\n",
    "            outputs = model(images)\n",
    "            _, predicted = torch.max(outputs.data, 1)\n",
    "            total += labels.size(0)\n",
    "            correct += (predicted == labels).sum().item()\n",
    "\n",
    "    print(f'Validation Accuracy: {100 * correct / total}%')"
   ]
  },
  {
   "cell_type": "code",
   "execution_count": 8,
   "metadata": {},
   "outputs": [
    {
     "name": "stdout",
     "output_type": "stream",
     "text": [
      "Train Accuracy: 99.72310126582279%\n"
     ]
    }
   ],
   "source": [
    "model.eval()\n",
    "correct = 0\n",
    "total = 0\n",
    "with torch.no_grad():\n",
    "    for images, labels in trainLoader:\n",
    "        images, labels = images.to(device), labels.to(device)\n",
    "        outputs = model(images)\n",
    "        _, predicted = torch.max(outputs.data, 1)\n",
    "        total += labels.size(0)\n",
    "        correct += (predicted == labels).sum().item()\n",
    "\n",
    "print(f'Train Accuracy: {100 * correct / total}%')"
   ]
  },
  {
   "cell_type": "code",
   "execution_count": null,
   "metadata": {},
   "outputs": [],
   "source": [
    "# %% \n",
    "def save_weights_to_text(model, file_path, precision=31):\n",
    "    with open(file_path, \"w\") as f:\n",
    "        for name, param in model.named_parameters():\n",
    "            if param.requires_grad:\n",
    "                f.write(f\"Layer: {name}\\n\")\n",
    "                f.write(f\"Shape: {param.shape}\\n\")\n",
    "                f.write(f\"Values:\\n\")\n",
    "                \n",
    "                # Convert tensor to numpy array\n",
    "                param_values = param.data.cpu().numpy()\n",
    "\n",
    "                # Format the values with the specified precision\n",
    "                formatted_values = np.vectorize(lambda x: f\"{x:.{precision}f}\")(param_values)\n",
    "                \n",
    "                # Write the formatted values in the original shape\n",
    "                f.write(str(formatted_values.tolist()) + \"\\n\")\n",
    "                f.write(\"=\" * 50 + \"\\n\")\n",
    "\n",
    "# Path to save the model weights\n",
    "weightsFilePath = \"./tumor_basic_model_weights.txt\"\n",
    "\n",
    "# Save the weights to a text file\n",
    "save_weights_to_text(model, weightsFilePath, precision=31)\n",
    "\n",
    "print(\"Model weights saved to:\", weightsFilePath)\n"
   ]
  }
 ],
 "metadata": {
  "kernelspec": {
   "display_name": "py39_knime",
   "language": "python",
   "name": "python3"
  },
  "language_info": {
   "codemirror_mode": {
    "name": "ipython",
    "version": 3
   },
   "file_extension": ".py",
   "mimetype": "text/x-python",
   "name": "python",
   "nbconvert_exporter": "python",
   "pygments_lexer": "ipython3",
   "version": "3.9.19"
  }
 },
 "nbformat": 4,
 "nbformat_minor": 2
}
