{
 "cells": [
  {
   "cell_type": "code",
   "execution_count": 6,
   "metadata": {},
   "outputs": [],
   "source": [
    "import pandas as pd \n",
    "import os \n",
    "import numpy as np\n",
    "import cv2\n",
    "\n",
    "paths = []\n",
    "classes = []\n",
    "\n",
    "gliomaTumorPath = \"./mergedDataset/glioma_tumor\"\n",
    "meningiomaTumorPath = \"./mergedDataset/meningioma_tumor\"\n",
    "pituitaryTumorPath = \"./mergedDataset/pituitary_tumor\"\n",
    "\n",
    "gliomaFiles = os.listdir(gliomaTumorPath)\n",
    "meningiomaFiles = os.listdir(meningiomaTumorPath)\n",
    "pituitaryFiles = os.listdir(pituitaryTumorPath)\n",
    "image = cv2.imread(os.path.join(gliomaTumorPath,gliomaFiles[0]))\n",
    "\n",
    "for file in gliomaFiles :\n",
    "    \n"
   ]
  },
  {
   "cell_type": "code",
   "execution_count": null,
   "metadata": {},
   "outputs": [],
   "source": []
  }
 ],
 "metadata": {
  "kernelspec": {
   "display_name": "py39_knime",
   "language": "python",
   "name": "python3"
  },
  "language_info": {
   "codemirror_mode": {
    "name": "ipython",
    "version": 3
   },
   "file_extension": ".py",
   "mimetype": "text/x-python",
   "name": "python",
   "nbconvert_exporter": "python",
   "pygments_lexer": "ipython3",
   "version": "3.9.19"
  }
 },
 "nbformat": 4,
 "nbformat_minor": 2
}
